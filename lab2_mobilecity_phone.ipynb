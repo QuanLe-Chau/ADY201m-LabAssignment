{
 "cells": [
  {
   "cell_type": "markdown",
   "metadata": {
    "vscode": {
     "languageId": "plaintext"
    }
   },
   "source": [
    "# Web Scraping: Scraping Phone Retailing Data from Website and Analyze Data"
   ]
  },
  {
   "cell_type": "markdown",
   "metadata": {},
   "source": [
    "### Set up"
   ]
  },
  {
   "cell_type": "code",
   "execution_count": 1,
   "metadata": {},
   "outputs": [
    {
     "name": "stdout",
     "output_type": "stream",
     "text": [
      "Requirement already satisfied: bs4 in c:\\users\\admin\\appdata\\local\\packages\\pythonsoftwarefoundation.python.3.11_qbz5n2kfra8p0\\localcache\\local-packages\\python311\\site-packages (0.0.2)\n",
      "Requirement already satisfied: beautifulsoup4 in c:\\users\\admin\\appdata\\local\\packages\\pythonsoftwarefoundation.python.3.11_qbz5n2kfra8p0\\localcache\\local-packages\\python311\\site-packages (from bs4) (4.12.3)\n",
      "Requirement already satisfied: soupsieve>1.2 in c:\\users\\admin\\appdata\\local\\packages\\pythonsoftwarefoundation.python.3.11_qbz5n2kfra8p0\\localcache\\local-packages\\python311\\site-packages (from beautifulsoup4->bs4) (2.6)\n",
      "Requirement already satisfied: html5lib in c:\\users\\admin\\appdata\\local\\packages\\pythonsoftwarefoundation.python.3.11_qbz5n2kfra8p0\\localcache\\local-packages\\python311\\site-packages (1.1)\n",
      "Requirement already satisfied: six>=1.9 in c:\\users\\admin\\appdata\\local\\packages\\pythonsoftwarefoundation.python.3.11_qbz5n2kfra8p0\\localcache\\local-packages\\python311\\site-packages (from html5lib) (1.16.0)\n",
      "Requirement already satisfied: webencodings in c:\\users\\admin\\appdata\\local\\packages\\pythonsoftwarefoundation.python.3.11_qbz5n2kfra8p0\\localcache\\local-packages\\python311\\site-packages (from html5lib) (0.5.1)\n",
      "Requirement already satisfied: lxml in c:\\users\\admin\\appdata\\local\\packages\\pythonsoftwarefoundation.python.3.11_qbz5n2kfra8p0\\localcache\\local-packages\\python311\\site-packages (5.3.0)\n",
      "Requirement already satisfied: plotly in c:\\users\\admin\\appdata\\local\\packages\\pythonsoftwarefoundation.python.3.11_qbz5n2kfra8p0\\localcache\\local-packages\\python311\\site-packages (5.24.1)\n",
      "Requirement already satisfied: tenacity>=6.2.0 in c:\\users\\admin\\appdata\\local\\packages\\pythonsoftwarefoundation.python.3.11_qbz5n2kfra8p0\\localcache\\local-packages\\python311\\site-packages (from plotly) (9.0.0)\n",
      "Requirement already satisfied: packaging in c:\\users\\admin\\appdata\\local\\packages\\pythonsoftwarefoundation.python.3.11_qbz5n2kfra8p0\\localcache\\local-packages\\python311\\site-packages (from plotly) (24.1)\n"
     ]
    }
   ],
   "source": [
    "!pip install bs4\n",
    "!pip install html5lib\n",
    "!pip install lxml\n",
    "!pip install plotly"
   ]
  },
  {
   "cell_type": "code",
   "execution_count": 2,
   "metadata": {},
   "outputs": [],
   "source": [
    "from bs4 import BeautifulSoup\n",
    "import requests\n",
    "import pandas as pd\n",
    "import numpy as np\n",
    "import matplotlib.pyplot as plt\n",
    "import seaborn as sns"
   ]
  },
  {
   "cell_type": "code",
   "execution_count": 3,
   "metadata": {},
   "outputs": [],
   "source": [
    "from selenium import webdriver\n",
    "from selenium.webdriver.common.by import By\n",
    "import time\n",
    "from datetime import date\n",
    "import datetime"
   ]
  },
  {
   "cell_type": "markdown",
   "metadata": {},
   "source": [
    "## 1. Scraping and Storing Data from Website\n",
    "- Phone Retailer: Mobile City  \n",
    "- Link: mobilecity.vn  \n",
    "- Final DataFrame: phone_data_recently  \n",
    "- Columns: ['scraped-date', 'name', 'price']"
   ]
  },
  {
   "cell_type": "markdown",
   "metadata": {},
   "source": [
    "Flow: \n",
    "- Scrape current/older version of webpage. \n",
    "- Store HTML data in a temporary .txt file\n",
    "- Extract data and store it a dataframe. \n",
    "- Prepoccessing data by utilizing dataframe\n",
    "- Store dataframe in a .csv file\n",
    "- Scrape new data later and add it to the current data file. "
   ]
  },
  {
   "cell_type": "code",
   "execution_count": 4,
   "metadata": {},
   "outputs": [],
   "source": [
    "# URL of Retailer\n",
    "\n",
    "url = \"https://mobilecity.vn/dien-thoai\""
   ]
  },
  {
   "cell_type": "code",
   "execution_count": 5,
   "metadata": {},
   "outputs": [],
   "source": [
    "def formated_date(str_8_digit):\n",
    "    return datetime.datetime.strptime(str_8_digit, '%Y%m%d').date().strftime(\"%Y-%m-%d\")"
   ]
  },
  {
   "cell_type": "markdown",
   "metadata": {},
   "source": [
    "### Scraping Website"
   ]
  },
  {
   "cell_type": "code",
   "execution_count": 6,
   "metadata": {},
   "outputs": [],
   "source": [
    "def scrape_old_version(url, date):\n",
    "    wayback_url = f\"https://web.archive.org/web/{date}/{url}\"\n",
    "    driver = webdriver.Chrome()\n",
    "    driver.get(wayback_url)\n",
    "\n",
    "    last_height = 0\n",
    "\n",
    "    while True:\n",
    "        driver.execute_script('window.scrollBy(0,1000)')\n",
    "        time.sleep(5)\n",
    "\n",
    "        new_height = driver.execute_script('return document.body.scrollHeight')\n",
    "        driver.execute_script(\"document.querySelector('.more').click()\")\n",
    "        print(str(new_height)+'-'+str(last_height))\n",
    "\n",
    "        if (new_height==last_height):\n",
    "            break\n",
    "        else: \n",
    "            last_height = new_height\n",
    "\n",
    "    page_source = driver.page_source\n",
    "\n",
    "    soup = BeautifulSoup(page_source, 'html.parser')\n",
    "    return soup"
   ]
  },
  {
   "cell_type": "code",
   "execution_count": 6,
   "metadata": {},
   "outputs": [],
   "source": [
    "def scrape_lastest_version(url):\n",
    "    driver = webdriver.Chrome()\n",
    "    driver.get(url)\n",
    "\n",
    "    last_height = 0\n",
    "\n",
    "    while True:\n",
    "        driver.execute_script('window.scrollBy(0,1000)')\n",
    "        time.sleep(3)\n",
    "\n",
    "        new_height = driver.execute_script('return document.body.scrollHeight')\n",
    "        driver.execute_script(\"document.querySelector('.more').click()\")\n",
    "        print(str(new_height)+'-'+str(last_height))\n",
    "\n",
    "        if (new_height==last_height):\n",
    "            break\n",
    "        else: \n",
    "            last_height = new_height\n",
    "\n",
    "    page_source = driver.page_source\n",
    "\n",
    "    soup = BeautifulSoup(page_source, 'html.parser')\n",
    "    return soup"
   ]
  },
  {
   "cell_type": "code",
   "execution_count": 7,
   "metadata": {},
   "outputs": [],
   "source": [
    "def scapring_format(soup_object, formated_date):\n",
    "    all_items = soup_object.find_all('div', class_='product-item-left')\n",
    "    scraped_date = formated_date\n",
    "    \n",
    "    list_of_item = []\n",
    "    for item in all_items:\n",
    "        product = {}\n",
    "\n",
    "        product['scraped-date'] = scraped_date\n",
    "        product['name'] = item.find('p', class_='name').string\n",
    "        product['price'] = item.find('p', class_='price').string\n",
    "\n",
    "        list_of_item.append(product)\n",
    "\n",
    "    df = pd.DataFrame(list_of_item)\n",
    "    return df"
   ]
  },
  {
   "cell_type": "code",
   "execution_count": 76,
   "metadata": {},
   "outputs": [
    {
     "ename": "NoSuchWindowException",
     "evalue": "Message: no such window: target window already closed\nfrom unknown error: web view not found\n  (Session info: chrome=129.0.6668.90)\nStacktrace:\n\tGetHandleVerifier [0x00007FF6F8DAB675+29573]\n\t(No symbol) [0x00007FF6F8D204A0]\n\t(No symbol) [0x00007FF6F8BDB6EA]\n\t(No symbol) [0x00007FF6F8BAFCD5]\n\t(No symbol) [0x00007FF6F8C5EF67]\n\t(No symbol) [0x00007FF6F8C77FC1]\n\t(No symbol) [0x00007FF6F8C570A3]\n\t(No symbol) [0x00007FF6F8C212DF]\n\t(No symbol) [0x00007FF6F8C22441]\n\tGetHandleVerifier [0x00007FF6F90DC5BD+3375821]\n\tGetHandleVerifier [0x00007FF6F91279B7+3684039]\n\tGetHandleVerifier [0x00007FF6F911CDDB+3640043]\n\tGetHandleVerifier [0x00007FF6F8E6B7F6+816390]\n\t(No symbol) [0x00007FF6F8D2B7AF]\n\t(No symbol) [0x00007FF6F8D275D4]\n\t(No symbol) [0x00007FF6F8D27770]\n\t(No symbol) [0x00007FF6F8D165CF]\n\tBaseThreadInitThunk [0x00007FFBEB26257D+29]\n\tRtlUserThreadStart [0x00007FFBED14AF28+40]\n",
     "output_type": "error",
     "traceback": [
      "\u001b[1;31m---------------------------------------------------------------------------\u001b[0m",
      "\u001b[1;31mNoSuchWindowException\u001b[0m                     Traceback (most recent call last)",
      "Cell \u001b[1;32mIn[76], line 7\u001b[0m\n\u001b[0;32m      5\u001b[0m aug_date \u001b[38;5;241m=\u001b[39m \u001b[38;5;124m'\u001b[39m\u001b[38;5;124m20240818\u001b[39m\u001b[38;5;124m'\u001b[39m  \u001b[38;5;66;03m# YYYYMMDD format\u001b[39;00m\n\u001b[0;32m      6\u001b[0m aug_formated_date \u001b[38;5;241m=\u001b[39m formated_date(aug_date)\n\u001b[1;32m----> 7\u001b[0m aug_soup \u001b[38;5;241m=\u001b[39m \u001b[43mscrape_old_version\u001b[49m\u001b[43m(\u001b[49m\u001b[43murl\u001b[49m\u001b[43m,\u001b[49m\u001b[43m \u001b[49m\u001b[43maug_date\u001b[49m\u001b[43m)\u001b[49m\n\u001b[0;32m      9\u001b[0m monthly_aug24_phonedf \u001b[38;5;241m=\u001b[39m scapring_format(aug_soup, aug_formated_date)\n",
      "Cell \u001b[1;32mIn[21], line 9\u001b[0m, in \u001b[0;36mscrape_old_version\u001b[1;34m(url, date)\u001b[0m\n\u001b[0;32m      6\u001b[0m last_height \u001b[38;5;241m=\u001b[39m \u001b[38;5;241m0\u001b[39m\n\u001b[0;32m      8\u001b[0m \u001b[38;5;28;01mwhile\u001b[39;00m \u001b[38;5;28;01mTrue\u001b[39;00m:\n\u001b[1;32m----> 9\u001b[0m     \u001b[43mdriver\u001b[49m\u001b[38;5;241;43m.\u001b[39;49m\u001b[43mexecute_script\u001b[49m\u001b[43m(\u001b[49m\u001b[38;5;124;43m'\u001b[39;49m\u001b[38;5;124;43mwindow.scrollBy(0,1000)\u001b[39;49m\u001b[38;5;124;43m'\u001b[39;49m\u001b[43m)\u001b[49m\n\u001b[0;32m     10\u001b[0m     time\u001b[38;5;241m.\u001b[39msleep(\u001b[38;5;241m5\u001b[39m)\n\u001b[0;32m     12\u001b[0m     new_height \u001b[38;5;241m=\u001b[39m driver\u001b[38;5;241m.\u001b[39mexecute_script(\u001b[38;5;124m'\u001b[39m\u001b[38;5;124mreturn document.body.scrollHeight\u001b[39m\u001b[38;5;124m'\u001b[39m)\n",
      "File \u001b[1;32m~\\AppData\\Local\\Packages\\PythonSoftwareFoundation.Python.3.11_qbz5n2kfra8p0\\LocalCache\\local-packages\\Python311\\site-packages\\selenium\\webdriver\\remote\\webdriver.py:414\u001b[0m, in \u001b[0;36mWebDriver.execute_script\u001b[1;34m(self, script, *args)\u001b[0m\n\u001b[0;32m    411\u001b[0m converted_args \u001b[38;5;241m=\u001b[39m \u001b[38;5;28mlist\u001b[39m(args)\n\u001b[0;32m    412\u001b[0m command \u001b[38;5;241m=\u001b[39m Command\u001b[38;5;241m.\u001b[39mW3C_EXECUTE_SCRIPT\n\u001b[1;32m--> 414\u001b[0m \u001b[38;5;28;01mreturn\u001b[39;00m \u001b[38;5;28;43mself\u001b[39;49m\u001b[38;5;241;43m.\u001b[39;49m\u001b[43mexecute\u001b[49m\u001b[43m(\u001b[49m\u001b[43mcommand\u001b[49m\u001b[43m,\u001b[49m\u001b[43m \u001b[49m\u001b[43m{\u001b[49m\u001b[38;5;124;43m\"\u001b[39;49m\u001b[38;5;124;43mscript\u001b[39;49m\u001b[38;5;124;43m\"\u001b[39;49m\u001b[43m:\u001b[49m\u001b[43m \u001b[49m\u001b[43mscript\u001b[49m\u001b[43m,\u001b[49m\u001b[43m \u001b[49m\u001b[38;5;124;43m\"\u001b[39;49m\u001b[38;5;124;43margs\u001b[39;49m\u001b[38;5;124;43m\"\u001b[39;49m\u001b[43m:\u001b[49m\u001b[43m \u001b[49m\u001b[43mconverted_args\u001b[49m\u001b[43m}\u001b[49m\u001b[43m)\u001b[49m[\u001b[38;5;124m\"\u001b[39m\u001b[38;5;124mvalue\u001b[39m\u001b[38;5;124m\"\u001b[39m]\n",
      "File \u001b[1;32m~\\AppData\\Local\\Packages\\PythonSoftwareFoundation.Python.3.11_qbz5n2kfra8p0\\LocalCache\\local-packages\\Python311\\site-packages\\selenium\\webdriver\\remote\\webdriver.py:354\u001b[0m, in \u001b[0;36mWebDriver.execute\u001b[1;34m(self, driver_command, params)\u001b[0m\n\u001b[0;32m    352\u001b[0m response \u001b[38;5;241m=\u001b[39m \u001b[38;5;28mself\u001b[39m\u001b[38;5;241m.\u001b[39mcommand_executor\u001b[38;5;241m.\u001b[39mexecute(driver_command, params)\n\u001b[0;32m    353\u001b[0m \u001b[38;5;28;01mif\u001b[39;00m response:\n\u001b[1;32m--> 354\u001b[0m     \u001b[38;5;28;43mself\u001b[39;49m\u001b[38;5;241;43m.\u001b[39;49m\u001b[43merror_handler\u001b[49m\u001b[38;5;241;43m.\u001b[39;49m\u001b[43mcheck_response\u001b[49m\u001b[43m(\u001b[49m\u001b[43mresponse\u001b[49m\u001b[43m)\u001b[49m\n\u001b[0;32m    355\u001b[0m     response[\u001b[38;5;124m\"\u001b[39m\u001b[38;5;124mvalue\u001b[39m\u001b[38;5;124m\"\u001b[39m] \u001b[38;5;241m=\u001b[39m \u001b[38;5;28mself\u001b[39m\u001b[38;5;241m.\u001b[39m_unwrap_value(response\u001b[38;5;241m.\u001b[39mget(\u001b[38;5;124m\"\u001b[39m\u001b[38;5;124mvalue\u001b[39m\u001b[38;5;124m\"\u001b[39m, \u001b[38;5;28;01mNone\u001b[39;00m))\n\u001b[0;32m    356\u001b[0m     \u001b[38;5;28;01mreturn\u001b[39;00m response\n",
      "File \u001b[1;32m~\\AppData\\Local\\Packages\\PythonSoftwareFoundation.Python.3.11_qbz5n2kfra8p0\\LocalCache\\local-packages\\Python311\\site-packages\\selenium\\webdriver\\remote\\errorhandler.py:229\u001b[0m, in \u001b[0;36mErrorHandler.check_response\u001b[1;34m(self, response)\u001b[0m\n\u001b[0;32m    227\u001b[0m         alert_text \u001b[38;5;241m=\u001b[39m value[\u001b[38;5;124m\"\u001b[39m\u001b[38;5;124malert\u001b[39m\u001b[38;5;124m\"\u001b[39m]\u001b[38;5;241m.\u001b[39mget(\u001b[38;5;124m\"\u001b[39m\u001b[38;5;124mtext\u001b[39m\u001b[38;5;124m\"\u001b[39m)\n\u001b[0;32m    228\u001b[0m     \u001b[38;5;28;01mraise\u001b[39;00m exception_class(message, screen, stacktrace, alert_text)  \u001b[38;5;66;03m# type: ignore[call-arg]  # mypy is not smart enough here\u001b[39;00m\n\u001b[1;32m--> 229\u001b[0m \u001b[38;5;28;01mraise\u001b[39;00m exception_class(message, screen, stacktrace)\n",
      "\u001b[1;31mNoSuchWindowException\u001b[0m: Message: no such window: target window already closed\nfrom unknown error: web view not found\n  (Session info: chrome=129.0.6668.90)\nStacktrace:\n\tGetHandleVerifier [0x00007FF6F8DAB675+29573]\n\t(No symbol) [0x00007FF6F8D204A0]\n\t(No symbol) [0x00007FF6F8BDB6EA]\n\t(No symbol) [0x00007FF6F8BAFCD5]\n\t(No symbol) [0x00007FF6F8C5EF67]\n\t(No symbol) [0x00007FF6F8C77FC1]\n\t(No symbol) [0x00007FF6F8C570A3]\n\t(No symbol) [0x00007FF6F8C212DF]\n\t(No symbol) [0x00007FF6F8C22441]\n\tGetHandleVerifier [0x00007FF6F90DC5BD+3375821]\n\tGetHandleVerifier [0x00007FF6F91279B7+3684039]\n\tGetHandleVerifier [0x00007FF6F911CDDB+3640043]\n\tGetHandleVerifier [0x00007FF6F8E6B7F6+816390]\n\t(No symbol) [0x00007FF6F8D2B7AF]\n\t(No symbol) [0x00007FF6F8D275D4]\n\t(No symbol) [0x00007FF6F8D27770]\n\t(No symbol) [0x00007FF6F8D165CF]\n\tBaseThreadInitThunk [0x00007FFBEB26257D+29]\n\tRtlUserThreadStart [0x00007FFBED14AF28+40]\n"
     ]
    }
   ],
   "source": [
    "# (Do not need to run) Scraping August data \n",
    "\n",
    "# We have August version of this webpage crawled by Wayback Machine on 2024-08-18\n",
    "\n",
    "aug_date = '20240818'  # YYYYMMDD format\n",
    "aug_formated_date = formated_date(aug_date)\n",
    "aug_soup = scrape_old_version(url, aug_date)\n",
    "\n",
    "monthly_aug24_phonedf = scapring_format(aug_soup, aug_formated_date)"
   ]
  },
  {
   "cell_type": "code",
   "execution_count": 27,
   "metadata": {},
   "outputs": [
    {
     "name": "stdout",
     "output_type": "stream",
     "text": [
      "3235-0\n",
      "3378-3235\n",
      "3378-3378\n"
     ]
    }
   ],
   "source": [
    "# (Do not need to run) Scraping September data \n",
    "\n",
    "# We have September version of this webpage crawled by Wayback Machine on 2024-09-13\n",
    "\n",
    "sep_date = '20240913'  # YYYYMMDD format\n",
    "sep_formated_date = formated_date(sep_date)\n",
    "sep_soup = scrape_old_version(url, sep_date)\n",
    "\n",
    "monthly_sep24_phonedf = scapring_format(sep_soup, sep_formated_date)"
   ]
  },
  {
   "cell_type": "markdown",
   "metadata": {},
   "source": [
    "Only run the code below to get the lastest data"
   ]
  },
  {
   "cell_type": "code",
   "execution_count": 8,
   "metadata": {},
   "outputs": [
    {
     "name": "stdout",
     "output_type": "stream",
     "text": [
      "3061-0\n",
      "5261-3061\n",
      "7461-5261\n",
      "9661-7461\n",
      "11861-9661\n",
      "14061-11861\n",
      "16261-14061\n",
      "18461-16261\n",
      "20661-18461\n",
      "22861-20661\n",
      "25061-22861\n",
      "27261-25061\n",
      "29461-27261\n",
      "31661-29461\n",
      "33861-31661\n",
      "36061-33861\n",
      "38261-36061\n",
      "40461-38261\n",
      "42661-40461\n",
      "44861-42661\n",
      "47061-44861\n",
      "49261-47061\n",
      "51461-49261\n",
      "53661-51461\n",
      "55861-53661\n",
      "58061-55861\n",
      "60261-58061\n",
      "62461-60261\n",
      "64661-62461\n",
      "66861-64661\n",
      "69061-66861\n",
      "71261-69061\n",
      "73461-71261\n",
      "75661-73461\n",
      "77861-75661\n",
      "80061-77861\n",
      "82261-80061\n",
      "84461-82261\n",
      "86661-84461\n",
      "88861-86661\n",
      "91061-88861\n",
      "93261-91061\n",
      "95461-93261\n",
      "97661-95461\n",
      "99861-97661\n",
      "102061-99861\n",
      "104261-102061\n",
      "106461-104261\n",
      "108661-106461\n",
      "110861-108661\n",
      "113061-110861\n",
      "115261-113061\n",
      "117461-115261\n",
      "119661-117461\n",
      "121861-119661\n",
      "124061-121861\n",
      "126261-124061\n",
      "128461-126261\n",
      "130661-128461\n",
      "132861-130661\n",
      "135061-132861\n",
      "137261-135061\n",
      "139461-137261\n",
      "141661-139461\n",
      "143861-141661\n",
      "146061-143861\n",
      "148261-146061\n",
      "150461-148261\n",
      "152661-150461\n",
      "153981-152661\n",
      "153928-153981\n",
      "153928-153928\n"
     ]
    }
   ],
   "source": [
    "# Scraping today data\n",
    "\n",
    "today = date.today().strftime(\"%Y-%m-%d\")\n",
    "lastest_soup = scrape_lastest_version(url)\n",
    "lastest_data_df = scapring_format(lastest_soup, today)"
   ]
  },
  {
   "cell_type": "markdown",
   "metadata": {},
   "source": [
    "### Extracting More Feature from Name and Drop Unwanted Data"
   ]
  },
  {
   "cell_type": "code",
   "execution_count": 9,
   "metadata": {},
   "outputs": [],
   "source": [
    "def extract_manufacturer_from_name(df):\n",
    "\n",
    "    made = []\n",
    "\n",
    "    for phone in df['name']:\n",
    "        if 'iPhone' in phone:\n",
    "            made.append('Apple')\n",
    "        elif 'Apple Watch' in phone:\n",
    "            made.append('Apple Watch')\n",
    "        elif 'Samsung' in phone:\n",
    "            made.append('Samsung')\n",
    "        elif 'Xiaomi' in phone:\n",
    "            made.append('Xiaomi')\n",
    "        elif 'POCO' in phone:\n",
    "            made.append('POCO')\n",
    "        elif 'Realme' in phone:\n",
    "            made.append('Realme')\n",
    "        elif 'Asus' in phone:\n",
    "            made.append('Asus (ROG Phone)')\n",
    "        elif 'OnePlus' in phone:\n",
    "            made.append('Oneplus')\n",
    "        elif 'Vivo' in phone:\n",
    "            made.append('Vivo')\n",
    "        elif 'LG' in phone:\n",
    "            made.append('LG')\n",
    "        elif 'OPPO' in phone:\n",
    "            made.append('OPPO')\n",
    "        elif 'Sony' in phone:\n",
    "            made.append('Sony')\n",
    "        elif 'Google' in phone:\n",
    "            made.append('Google')\n",
    "        elif 'Vsmart' in phone:\n",
    "            made.append('Vsmart')\n",
    "        elif 'Lenovo' in phone:\n",
    "            made.append('Lenovo - Motorola')\n",
    "        elif 'Motorola' in phone:\n",
    "            made.append('Lenovo - Motorola')\n",
    "        elif 'Tecno' in phone:\n",
    "            made.append('Tecno')\n",
    "        elif 'Máy Chơi Game' in phone:\n",
    "            made.append('Máy Chơi Game PC')\n",
    "        elif 'Nubia' in phone:\n",
    "            made.append('Nubia Red Magic')\n",
    "        elif 'ZTE' in phone:\n",
    "            made.append('ZTE')\n",
    "        elif 'Huawei' in phone:\n",
    "            made.append('Huawei')\n",
    "        else:\n",
    "            made.append('Others')\n",
    "\n",
    "    return made"
   ]
  },
  {
   "cell_type": "code",
   "execution_count": 10,
   "metadata": {},
   "outputs": [],
   "source": [
    "def extract_used_status_from_name(df):\n",
    "    used = []\n",
    "\n",
    "    for phone in df['name']:\n",
    "        if 'Cũ' in phone:\n",
    "            used.append(1)\n",
    "        elif 'cũ' in phone:\n",
    "            used.append(1)\n",
    "        else:\n",
    "            used.append(0)\n",
    "\n",
    "    return used"
   ]
  },
  {
   "cell_type": "code",
   "execution_count": 11,
   "metadata": {},
   "outputs": [],
   "source": [
    "def drop_unwanted_data(df):\n",
    "    # Since we only interested in the phone products, we don't need 'Apple Watch' or \n",
    "    # 'May choi game'\n",
    "    dropped_df = df.drop(df[(df['made']=='Apple Watch')|(df['made']=='Máy Chơi Game PC')].index)\n",
    "\n",
    "    return dropped_df\n"
   ]
  },
  {
   "cell_type": "code",
   "execution_count": 12,
   "metadata": {},
   "outputs": [
    {
     "ename": "NameError",
     "evalue": "name 'monthly_aug24_phonedf' is not defined",
     "output_type": "error",
     "traceback": [
      "\u001b[1;31m---------------------------------------------------------------------------\u001b[0m",
      "\u001b[1;31mNameError\u001b[0m                                 Traceback (most recent call last)",
      "Cell \u001b[1;32mIn[12], line 2\u001b[0m\n\u001b[0;32m      1\u001b[0m \u001b[38;5;66;03m# (Do not need to run) Extract feature from past data\u001b[39;00m\n\u001b[1;32m----> 2\u001b[0m past_data \u001b[38;5;241m=\u001b[39m pd\u001b[38;5;241m.\u001b[39mconcat([\u001b[43mmonthly_aug24_phonedf\u001b[49m, monthly_sep24_phonedf], ignore_index\u001b[38;5;241m=\u001b[39m\u001b[38;5;28;01mTrue\u001b[39;00m)\n\u001b[0;32m      4\u001b[0m made \u001b[38;5;241m=\u001b[39m extract_manufacturer_from_name(past_data)\n\u001b[0;32m      5\u001b[0m past_data[\u001b[38;5;124m'\u001b[39m\u001b[38;5;124mmade\u001b[39m\u001b[38;5;124m'\u001b[39m] \u001b[38;5;241m=\u001b[39m made\n",
      "\u001b[1;31mNameError\u001b[0m: name 'monthly_aug24_phonedf' is not defined"
     ]
    }
   ],
   "source": [
    "# (Do not need to run) Extract feature from past data\n",
    "past_data = pd.concat([monthly_aug24_phonedf, monthly_sep24_phonedf], ignore_index=True)\n",
    "\n",
    "made = extract_manufacturer_from_name(past_data)\n",
    "past_data['made'] = made\n",
    "\n",
    "used = extract_used_status_from_name(past_data)\n",
    "past_data['used-status'] = used\n",
    "\n",
    "data = drop_unwanted_data(past_data)"
   ]
  },
  {
   "cell_type": "code",
   "execution_count": 13,
   "metadata": {},
   "outputs": [],
   "source": [
    "# Extract features from lastest data\n",
    "\n",
    "made = extract_manufacturer_from_name(lastest_data_df)\n",
    "lastest_data_df['made'] = made\n",
    "\n",
    "used = extract_used_status_from_name(lastest_data_df)\n",
    "lastest_data_df['used-status'] = used\n",
    "\n",
    "lastest_data_df = drop_unwanted_data(lastest_data_df)"
   ]
  },
  {
   "cell_type": "markdown",
   "metadata": {},
   "source": [
    "### Storing Data into phone_data.csv File"
   ]
  },
  {
   "cell_type": "code",
   "execution_count": 97,
   "metadata": {},
   "outputs": [],
   "source": [
    "# (Do not need to run)\n",
    "data.to_csv('phone_data.csv')"
   ]
  },
  {
   "cell_type": "code",
   "execution_count": 14,
   "metadata": {},
   "outputs": [],
   "source": [
    "lastest_data_df.to_csv('phone_data.csv', mode='a', header=False)"
   ]
  },
  {
   "cell_type": "markdown",
   "metadata": {},
   "source": [
    "## 2. Data Wragling\n",
    "- Handle Missing Values\n",
    "- Correct Data Format\n",
    "- Data Standardization\n",
    "- Data Normalization\n",
    "- Bining and Bins Visulization\n",
    "- Indicator Variables"
   ]
  },
  {
   "cell_type": "markdown",
   "metadata": {},
   "source": [
    "### 2.1 Loading Data from CSV File into DataFrame df"
   ]
  },
  {
   "cell_type": "code",
   "execution_count": 15,
   "metadata": {},
   "outputs": [
    {
     "name": "stdout",
     "output_type": "stream",
     "text": [
      "<class 'pandas.core.frame.DataFrame'>\n",
      "RangeIndex: 4798 entries, 0 to 4797\n",
      "Data columns (total 5 columns):\n",
      " #   Column        Non-Null Count  Dtype \n",
      "---  ------        --------------  ----- \n",
      " 0   scraped-date  4798 non-null   object\n",
      " 1   name          4798 non-null   object\n",
      " 2   price         4798 non-null   object\n",
      " 3   made          4798 non-null   object\n",
      " 4   used-status   4798 non-null   int64 \n",
      "dtypes: int64(1), object(4)\n",
      "memory usage: 187.6+ KB\n"
     ]
    }
   ],
   "source": [
    "df = pd.read_csv('phone_data.csv')\n",
    "df.reset_index(drop=True, inplace=True)\n",
    "df.drop(df.columns[0], axis=1, inplace=True)\n",
    "df.info()"
   ]
  },
  {
   "cell_type": "markdown",
   "metadata": {},
   "source": [
    "### 2.2 Handle Missing Values"
   ]
  },
  {
   "cell_type": "markdown",
   "metadata": {},
   "source": [
    "#### 2.2.1 Handle missing price"
   ]
  },
  {
   "cell_type": "code",
   "execution_count": 20,
   "metadata": {},
   "outputs": [
    {
     "data": {
      "text/plain": [
       "price\n",
       "4.950.000 ₫    92\n",
       "3.950.000 ₫    74\n",
       "6.950.000 ₫    73\n",
       "2.950.000 ₫    71\n",
       "8.450.000 ₫    66\n",
       "Name: count, dtype: int64"
      ]
     },
     "execution_count": 20,
     "metadata": {},
     "output_type": "execute_result"
    }
   ],
   "source": [
    "df['price'].value_counts().head()"
   ]
  },
  {
   "cell_type": "markdown",
   "metadata": {},
   "source": [
    "We can see that some phone have no price demostrated on the website, instead they have 'Lien He'  \n",
    "We are going to replace these by numpy.nan value and drop them later on, because filling these missing value with mean value is not reasonable, since phone prices are determined by a variety of features"
   ]
  },
  {
   "cell_type": "code",
   "execution_count": 21,
   "metadata": {},
   "outputs": [
    {
     "data": {
      "text/plain": [
       "scraped-date    0\n",
       "name            0\n",
       "price           0\n",
       "made            0\n",
       "used-status     0\n",
       "dtype: int64"
      ]
     },
     "execution_count": 21,
     "metadata": {},
     "output_type": "execute_result"
    }
   ],
   "source": [
    "df['price'] = df['price'].replace('Liên hệ', np.nan)\n",
    "df.isnull().sum()\n"
   ]
  },
  {
   "cell_type": "code",
   "execution_count": 33,
   "metadata": {},
   "outputs": [
    {
     "data": {
      "text/plain": [
       "scraped-date    0\n",
       "name            0\n",
       "price           0\n",
       "made            0\n",
       "used-status     0\n",
       "price-binned    0\n",
       "dtype: int64"
      ]
     },
     "execution_count": 33,
     "metadata": {},
     "output_type": "execute_result"
    }
   ],
   "source": [
    "df.dropna(axis=0,how='any', inplace=True)\n",
    "df.isnull().sum()"
   ]
  },
  {
   "cell_type": "code",
   "execution_count": 36,
   "metadata": {},
   "outputs": [
    {
     "data": {
      "text/html": [
       "<div>\n",
       "<style scoped>\n",
       "    .dataframe tbody tr th:only-of-type {\n",
       "        vertical-align: middle;\n",
       "    }\n",
       "\n",
       "    .dataframe tbody tr th {\n",
       "        vertical-align: top;\n",
       "    }\n",
       "\n",
       "    .dataframe thead th {\n",
       "        text-align: right;\n",
       "    }\n",
       "</style>\n",
       "<table border=\"1\" class=\"dataframe\">\n",
       "  <thead>\n",
       "    <tr style=\"text-align: right;\">\n",
       "      <th></th>\n",
       "      <th>scraped-date</th>\n",
       "      <th>name</th>\n",
       "      <th>price</th>\n",
       "      <th>made</th>\n",
       "      <th>used-status</th>\n",
       "      <th>price-binned</th>\n",
       "    </tr>\n",
       "  </thead>\n",
       "  <tbody>\n",
       "    <tr>\n",
       "      <th>0</th>\n",
       "      <td>2024-08-18</td>\n",
       "      <td>Xiaomi Redmi 13C Chính hãng (Camera 50MP)</td>\n",
       "      <td>2500000</td>\n",
       "      <td>Xiaomi</td>\n",
       "      <td>0</td>\n",
       "      <td>entry-level</td>\n",
       "    </tr>\n",
       "    <tr>\n",
       "      <th>1</th>\n",
       "      <td>2024-08-18</td>\n",
       "      <td>Xiaomi POCO C65 (Camera 50MP)</td>\n",
       "      <td>2550000</td>\n",
       "      <td>Xiaomi</td>\n",
       "      <td>0</td>\n",
       "      <td>entry-level</td>\n",
       "    </tr>\n",
       "    <tr>\n",
       "      <th>2</th>\n",
       "      <td>2024-08-18</td>\n",
       "      <td>OPPO A2x 5G (Dimensity 6020)</td>\n",
       "      <td>2650000</td>\n",
       "      <td>OPPO</td>\n",
       "      <td>0</td>\n",
       "      <td>entry-level</td>\n",
       "    </tr>\n",
       "    <tr>\n",
       "      <th>3</th>\n",
       "      <td>2024-08-18</td>\n",
       "      <td>Xiaomi Redmi Note 12 5G (Snapdragon 4 Gen 1)</td>\n",
       "      <td>2750000</td>\n",
       "      <td>Xiaomi</td>\n",
       "      <td>0</td>\n",
       "      <td>entry-level</td>\n",
       "    </tr>\n",
       "    <tr>\n",
       "      <th>4</th>\n",
       "      <td>2024-08-18</td>\n",
       "      <td>Xiaomi Redmi Note 11 5G (Dimensity 810)</td>\n",
       "      <td>2950000</td>\n",
       "      <td>Xiaomi</td>\n",
       "      <td>0</td>\n",
       "      <td>entry-level</td>\n",
       "    </tr>\n",
       "    <tr>\n",
       "      <th>...</th>\n",
       "      <td>...</td>\n",
       "      <td>...</td>\n",
       "      <td>...</td>\n",
       "      <td>...</td>\n",
       "      <td>...</td>\n",
       "      <td>...</td>\n",
       "    </tr>\n",
       "    <tr>\n",
       "      <th>3495</th>\n",
       "      <td>2024-10-13</td>\n",
       "      <td>Smartisan Nut Pro 3 (Tiktok Phone)</td>\n",
       "      <td>8950000</td>\n",
       "      <td>Others</td>\n",
       "      <td>0</td>\n",
       "      <td>entry-level</td>\n",
       "    </tr>\n",
       "    <tr>\n",
       "      <th>3496</th>\n",
       "      <td>2024-10-13</td>\n",
       "      <td>OnePlus 7</td>\n",
       "      <td>9450000</td>\n",
       "      <td>Oneplus</td>\n",
       "      <td>0</td>\n",
       "      <td>entry-level</td>\n",
       "    </tr>\n",
       "    <tr>\n",
       "      <th>3497</th>\n",
       "      <td>2024-10-13</td>\n",
       "      <td>Huawei Nova 5 Pro</td>\n",
       "      <td>9950000</td>\n",
       "      <td>Huawei</td>\n",
       "      <td>0</td>\n",
       "      <td>entry-level</td>\n",
       "    </tr>\n",
       "    <tr>\n",
       "      <th>3498</th>\n",
       "      <td>2024-10-13</td>\n",
       "      <td>Xiaomi Mi 10 Pro</td>\n",
       "      <td>15950000</td>\n",
       "      <td>Xiaomi</td>\n",
       "      <td>0</td>\n",
       "      <td>mid</td>\n",
       "    </tr>\n",
       "    <tr>\n",
       "      <th>3499</th>\n",
       "      <td>2024-10-13</td>\n",
       "      <td>Huawei Mate 20X (5G)</td>\n",
       "      <td>16950000</td>\n",
       "      <td>Huawei</td>\n",
       "      <td>0</td>\n",
       "      <td>mid</td>\n",
       "    </tr>\n",
       "  </tbody>\n",
       "</table>\n",
       "<p>3500 rows × 6 columns</p>\n",
       "</div>"
      ],
      "text/plain": [
       "     scraped-date                                          name     price  \\\n",
       "0      2024-08-18     Xiaomi Redmi 13C Chính hãng (Camera 50MP)   2500000   \n",
       "1      2024-08-18                 Xiaomi POCO C65 (Camera 50MP)   2550000   \n",
       "2      2024-08-18                  OPPO A2x 5G (Dimensity 6020)   2650000   \n",
       "3      2024-08-18  Xiaomi Redmi Note 12 5G (Snapdragon 4 Gen 1)   2750000   \n",
       "4      2024-08-18       Xiaomi Redmi Note 11 5G (Dimensity 810)   2950000   \n",
       "...           ...                                           ...       ...   \n",
       "3495   2024-10-13            Smartisan Nut Pro 3 (Tiktok Phone)   8950000   \n",
       "3496   2024-10-13                                     OnePlus 7   9450000   \n",
       "3497   2024-10-13                             Huawei Nova 5 Pro   9950000   \n",
       "3498   2024-10-13                              Xiaomi Mi 10 Pro  15950000   \n",
       "3499   2024-10-13                          Huawei Mate 20X (5G)  16950000   \n",
       "\n",
       "         made  used-status price-binned  \n",
       "0      Xiaomi            0  entry-level  \n",
       "1      Xiaomi            0  entry-level  \n",
       "2        OPPO            0  entry-level  \n",
       "3      Xiaomi            0  entry-level  \n",
       "4      Xiaomi            0  entry-level  \n",
       "...       ...          ...          ...  \n",
       "3495   Others            0  entry-level  \n",
       "3496  Oneplus            0  entry-level  \n",
       "3497   Huawei            0  entry-level  \n",
       "3498   Xiaomi            0          mid  \n",
       "3499   Huawei            0          mid  \n",
       "\n",
       "[3500 rows x 6 columns]"
      ]
     },
     "execution_count": 36,
     "metadata": {},
     "output_type": "execute_result"
    }
   ],
   "source": [
    "df.reset_index(drop=True)\n"
   ]
  },
  {
   "cell_type": "code",
   "execution_count": 37,
   "metadata": {},
   "outputs": [
    {
     "name": "stdout",
     "output_type": "stream",
     "text": [
      "<class 'pandas.core.frame.DataFrame'>\n",
      "Index: 3500 entries, 0 to 4763\n",
      "Data columns (total 6 columns):\n",
      " #   Column        Non-Null Count  Dtype         \n",
      "---  ------        --------------  -----         \n",
      " 0   scraped-date  3500 non-null   datetime64[ns]\n",
      " 1   name          3500 non-null   object        \n",
      " 2   price         3500 non-null   int32         \n",
      " 3   made          3500 non-null   object        \n",
      " 4   used-status   3500 non-null   int64         \n",
      " 5   price-binned  3500 non-null   category      \n",
      "dtypes: category(1), datetime64[ns](1), int32(1), int64(1), object(2)\n",
      "memory usage: 154.0+ KB\n"
     ]
    }
   ],
   "source": [
    "df.info()"
   ]
  },
  {
   "cell_type": "markdown",
   "metadata": {},
   "source": [
    "### 2.3 Correct Data Format"
   ]
  },
  {
   "cell_type": "code",
   "execution_count": 24,
   "metadata": {},
   "outputs": [],
   "source": [
    "df['scraped-date'] = pd.to_datetime(df[\"scraped-date\"])"
   ]
  },
  {
   "cell_type": "code",
   "execution_count": 25,
   "metadata": {},
   "outputs": [
    {
     "data": {
      "text/plain": [
       "0    2.500.000 ₫\n",
       "1    2.550.000 ₫\n",
       "2    2.650.000 ₫\n",
       "3    2.750.000 ₫\n",
       "4    2.950.000 ₫\n",
       "Name: price, dtype: object"
      ]
     },
     "execution_count": 25,
     "metadata": {},
     "output_type": "execute_result"
    }
   ],
   "source": [
    "df['price'].head()"
   ]
  },
  {
   "cell_type": "markdown",
   "metadata": {},
   "source": [
    "There are 2 problems with the 'price' column now in the DataFrame:\n",
    "- It contains the currency symbol\n",
    "- Number seperated by dot (Which makes it impossible to convert into int type)"
   ]
  },
  {
   "cell_type": "code",
   "execution_count": 26,
   "metadata": {},
   "outputs": [
    {
     "data": {
      "text/html": [
       "<div>\n",
       "<style scoped>\n",
       "    .dataframe tbody tr th:only-of-type {\n",
       "        vertical-align: middle;\n",
       "    }\n",
       "\n",
       "    .dataframe tbody tr th {\n",
       "        vertical-align: top;\n",
       "    }\n",
       "\n",
       "    .dataframe thead th {\n",
       "        text-align: right;\n",
       "    }\n",
       "</style>\n",
       "<table border=\"1\" class=\"dataframe\">\n",
       "  <thead>\n",
       "    <tr style=\"text-align: right;\">\n",
       "      <th></th>\n",
       "      <th>scraped-date</th>\n",
       "      <th>name</th>\n",
       "      <th>price</th>\n",
       "      <th>made</th>\n",
       "      <th>used-status</th>\n",
       "    </tr>\n",
       "  </thead>\n",
       "  <tbody>\n",
       "    <tr>\n",
       "      <th>0</th>\n",
       "      <td>2024-08-18</td>\n",
       "      <td>Xiaomi Redmi 13C Chính hãng (Camera 50MP)</td>\n",
       "      <td>2500000</td>\n",
       "      <td>Xiaomi</td>\n",
       "      <td>0</td>\n",
       "    </tr>\n",
       "    <tr>\n",
       "      <th>1</th>\n",
       "      <td>2024-08-18</td>\n",
       "      <td>Xiaomi POCO C65 (Camera 50MP)</td>\n",
       "      <td>2550000</td>\n",
       "      <td>Xiaomi</td>\n",
       "      <td>0</td>\n",
       "    </tr>\n",
       "    <tr>\n",
       "      <th>2</th>\n",
       "      <td>2024-08-18</td>\n",
       "      <td>OPPO A2x 5G (Dimensity 6020)</td>\n",
       "      <td>2650000</td>\n",
       "      <td>OPPO</td>\n",
       "      <td>0</td>\n",
       "    </tr>\n",
       "    <tr>\n",
       "      <th>3</th>\n",
       "      <td>2024-08-18</td>\n",
       "      <td>Xiaomi Redmi Note 12 5G (Snapdragon 4 Gen 1)</td>\n",
       "      <td>2750000</td>\n",
       "      <td>Xiaomi</td>\n",
       "      <td>0</td>\n",
       "    </tr>\n",
       "    <tr>\n",
       "      <th>4</th>\n",
       "      <td>2024-08-18</td>\n",
       "      <td>Xiaomi Redmi Note 11 5G (Dimensity 810)</td>\n",
       "      <td>2950000</td>\n",
       "      <td>Xiaomi</td>\n",
       "      <td>0</td>\n",
       "    </tr>\n",
       "  </tbody>\n",
       "</table>\n",
       "</div>"
      ],
      "text/plain": [
       "  scraped-date                                          name    price    made  \\\n",
       "0   2024-08-18     Xiaomi Redmi 13C Chính hãng (Camera 50MP)  2500000  Xiaomi   \n",
       "1   2024-08-18                 Xiaomi POCO C65 (Camera 50MP)  2550000  Xiaomi   \n",
       "2   2024-08-18                  OPPO A2x 5G (Dimensity 6020)  2650000    OPPO   \n",
       "3   2024-08-18  Xiaomi Redmi Note 12 5G (Snapdragon 4 Gen 1)  2750000  Xiaomi   \n",
       "4   2024-08-18       Xiaomi Redmi Note 11 5G (Dimensity 810)  2950000  Xiaomi   \n",
       "\n",
       "   used-status  \n",
       "0            0  \n",
       "1            0  \n",
       "2            0  \n",
       "3            0  \n",
       "4            0  "
      ]
     },
     "execution_count": 26,
     "metadata": {},
     "output_type": "execute_result"
    }
   ],
   "source": [
    "# Remove the currency symbol\n",
    "df[\"price\"] = df['price'].str.replace('₫',\"\", regex=True)\n",
    "\n",
    "# Remove the dot\n",
    "df[\"price\"] = df['price'].str.replace('.',\"\")\n",
    "\n",
    "# Convert into int type\n",
    "df[\"price\"] = df['price'].astype('int')\n",
    "\n",
    "df.head()"
   ]
  },
  {
   "cell_type": "markdown",
   "metadata": {},
   "source": [
    "### 2.4 Data Binning "
   ]
  },
  {
   "cell_type": "markdown",
   "metadata": {},
   "source": [
    "#### 2.4.1 Bining Price "
   ]
  },
  {
   "cell_type": "code",
   "execution_count": 27,
   "metadata": {},
   "outputs": [
    {
     "data": {
      "text/html": [
       "<div>\n",
       "<style scoped>\n",
       "    .dataframe tbody tr th:only-of-type {\n",
       "        vertical-align: middle;\n",
       "    }\n",
       "\n",
       "    .dataframe tbody tr th {\n",
       "        vertical-align: top;\n",
       "    }\n",
       "\n",
       "    .dataframe thead th {\n",
       "        text-align: right;\n",
       "    }\n",
       "</style>\n",
       "<table border=\"1\" class=\"dataframe\">\n",
       "  <thead>\n",
       "    <tr style=\"text-align: right;\">\n",
       "      <th></th>\n",
       "      <th>price</th>\n",
       "      <th>price-binned</th>\n",
       "    </tr>\n",
       "  </thead>\n",
       "  <tbody>\n",
       "    <tr>\n",
       "      <th>0</th>\n",
       "      <td>2500000</td>\n",
       "      <td>entry-level</td>\n",
       "    </tr>\n",
       "    <tr>\n",
       "      <th>1</th>\n",
       "      <td>2550000</td>\n",
       "      <td>entry-level</td>\n",
       "    </tr>\n",
       "    <tr>\n",
       "      <th>2</th>\n",
       "      <td>2650000</td>\n",
       "      <td>entry-level</td>\n",
       "    </tr>\n",
       "    <tr>\n",
       "      <th>3</th>\n",
       "      <td>2750000</td>\n",
       "      <td>entry-level</td>\n",
       "    </tr>\n",
       "    <tr>\n",
       "      <th>4</th>\n",
       "      <td>2950000</td>\n",
       "      <td>entry-level</td>\n",
       "    </tr>\n",
       "  </tbody>\n",
       "</table>\n",
       "</div>"
      ],
      "text/plain": [
       "     price price-binned\n",
       "0  2500000  entry-level\n",
       "1  2550000  entry-level\n",
       "2  2650000  entry-level\n",
       "3  2750000  entry-level\n",
       "4  2950000  entry-level"
      ]
     },
     "execution_count": 27,
     "metadata": {},
     "output_type": "execute_result"
    }
   ],
   "source": [
    "price_bins = np.linspace(min(df[\"price\"]), max(df[\"price\"]), 5)\n",
    "calo_bins = np.array([0., 6000000., 10000000., 18000000., max(df['price'])])\n",
    "price_group = ['entry-level', 'mid', 'upper-mid', 'flagship']\n",
    "df['price-binned'] = pd.cut(df['price'], price_bins, labels=price_group, include_lowest=True )\n",
    "df[['price','price-binned']].head()"
   ]
  },
  {
   "cell_type": "code",
   "execution_count": 28,
   "metadata": {},
   "outputs": [
    {
     "data": {
      "text/plain": [
       "price-binned\n",
       "entry-level    2717\n",
       "mid             595\n",
       "upper-mid       156\n",
       "flagship         32\n",
       "Name: count, dtype: int64"
      ]
     },
     "execution_count": 28,
     "metadata": {},
     "output_type": "execute_result"
    }
   ],
   "source": [
    "df['price-binned'].value_counts()"
   ]
  },
  {
   "cell_type": "code",
   "execution_count": 29,
   "metadata": {},
   "outputs": [
    {
     "data": {
      "text/plain": [
       "Text(0.5, 1.0, 'price segment')"
      ]
     },
     "execution_count": 29,
     "metadata": {},
     "output_type": "execute_result"
    },
    {
     "data": {
      "image/png": "[encoded data removed]",
      "text/plain": [
       "<Figure size 640x480 with 1 Axes>"
      ]
     },
     "metadata": {},
     "output_type": "display_data"
    }
   ],
   "source": [
    "%matplotlib inline\n",
    "\n",
    "# draw historgram of attribute \"price\" with bins = 4\n",
    "plt.hist(df[\"price\"], bins = 4)\n",
    "\n",
    "# set x/y labels and plot title\n",
    "plt.xlabel(\"price\")\n",
    "plt.ylabel(\"number\")\n",
    "plt.title(\"price segment\")"
   ]
  },
  {
   "cell_type": "markdown",
   "metadata": {},
   "source": [
    "# 3. Data Analysis"
   ]
  },
  {
   "cell_type": "code",
   "execution_count": 30,
   "metadata": {},
   "outputs": [
    {
     "name": "stderr",
     "output_type": "stream",
     "text": [
      "C:\\Users\\aDMIN\\AppData\\Local\\Temp\\ipykernel_23496\\3269461129.py:4: FutureWarning: The default of observed=False is deprecated and will be changed to True in a future version of pandas. Pass observed=False to retain current behavior or observed=True to adopt the future default and silence this warning.\n",
      "  df_grp = df_test.groupby(['price-binned'], as_index=False).mean().round(0)\n"
     ]
    },
    {
     "data": {
      "text/html": [
       "<div>\n",
       "<style scoped>\n",
       "    .dataframe tbody tr th:only-of-type {\n",
       "        vertical-align: middle;\n",
       "    }\n",
       "\n",
       "    .dataframe tbody tr th {\n",
       "        vertical-align: top;\n",
       "    }\n",
       "\n",
       "    .dataframe thead th {\n",
       "        text-align: right;\n",
       "    }\n",
       "</style>\n",
       "<table border=\"1\" class=\"dataframe\">\n",
       "  <thead>\n",
       "    <tr style=\"text-align: right;\">\n",
       "      <th></th>\n",
       "      <th>price-binned</th>\n",
       "      <th>price</th>\n",
       "    </tr>\n",
       "  </thead>\n",
       "  <tbody>\n",
       "    <tr>\n",
       "      <th>0</th>\n",
       "      <td>entry-level</td>\n",
       "      <td>5857672 ₫</td>\n",
       "    </tr>\n",
       "    <tr>\n",
       "      <th>1</th>\n",
       "      <td>mid</td>\n",
       "      <td>15423674 ₫</td>\n",
       "    </tr>\n",
       "    <tr>\n",
       "      <th>2</th>\n",
       "      <td>upper-mid</td>\n",
       "      <td>25904103 ₫</td>\n",
       "    </tr>\n",
       "    <tr>\n",
       "      <th>3</th>\n",
       "      <td>flagship</td>\n",
       "      <td>37066125 ₫</td>\n",
       "    </tr>\n",
       "  </tbody>\n",
       "</table>\n",
       "</div>"
      ],
      "text/plain": [
       "  price-binned       price\n",
       "0  entry-level   5857672 ₫\n",
       "1          mid  15423674 ₫\n",
       "2    upper-mid  25904103 ₫\n",
       "3     flagship  37066125 ₫"
      ]
     },
     "execution_count": 30,
     "metadata": {},
     "output_type": "execute_result"
    }
   ],
   "source": [
    "# Average price based on each phone segment\n",
    "\n",
    "df_test = df[['price', 'price-binned']]\n",
    "df_grp = df_test.groupby(['price-binned'], as_index=False).mean().round(0)\n",
    "\n",
    "df_grp['price'] = df_grp['price'].astype(int).astype(str) + ' ₫'\n",
    "\n",
    "df_grp.head()"
   ]
  }
 ],
 "metadata": {
  "kernelspec": {
   "display_name": "Python 3",
   "language": "python",
   "name": "python3"
  },
  "language_info": {
   "codemirror_mode": {
    "name": "ipython",
    "version": 3
   },
   "file_extension": ".py",
   "mimetype": "text/x-python",
   "name": "python",
   "nbconvert_exporter": "python",
   "pygments_lexer": "ipython3",
   "version": "3.11.9"
  }
 },
 "nbformat": 4,
 "nbformat_minor": 2
}
